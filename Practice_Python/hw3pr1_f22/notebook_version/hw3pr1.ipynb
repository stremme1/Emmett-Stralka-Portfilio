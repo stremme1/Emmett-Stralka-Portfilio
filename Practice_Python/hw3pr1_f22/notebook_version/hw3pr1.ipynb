{
 "cells": [
  {
   "cell_type": "code",
   "execution_count": null,
   "metadata": {},
   "outputs": [],
   "source": [
    "# CS5 Gold, Lab 3\n",
    "# Filename: hw3pr1.py\n",
    "# Name:\n",
    "# Problem description: Lab 3 problem, \"Sounds Good!\""
   ]
  },
  {
   "cell_type": "code",
   "execution_count": null,
   "metadata": {},
   "outputs": [],
   "source": [
    "# first, let's make sure that sound works for this notebook...  \n",
    "# (Keep everything in the hw3pr1 folder.)\n",
    "#"
   ]
  },
  {
   "cell_type": "code",
   "execution_count": null,
   "metadata": {},
   "outputs": [],
   "source": [
    "#\n",
    "# libraries to import   (may take several seconds the first time you run this cell...)\n",
    "#\n",
    "from csaudio import *\n",
    "import time\n",
    "import random\n",
    "import math\n",
    "import wave\n",
    "wave.big_endian = 0"
   ]
  },
  {
   "cell_type": "code",
   "execution_count": null,
   "metadata": {},
   "outputs": [],
   "source": [
    "# our in-browser test function to make sure everything is working\n",
    "#\n",
    "def test():\n",
    "    \"\"\"A test function that plays swfaith.wav\n",
    "       You'll need swfaith.wav in this folder. \n",
    "    \"\"\"\n",
    "    return play('swfaith.wav')   # try - or don't try - swnotry.wav (or spam.wav)\n",
    "\n",
    "test()"
   ]
  },
  {
   "cell_type": "code",
   "execution_count": null,
   "metadata": {},
   "outputs": [],
   "source": [
    "#\n",
    "# _if_ the above test() function does not work, then try this one,\n",
    "#\n",
    "#    which uses altplay( filename ) \n",
    "#\n",
    "#    without creating a browser \"widget\" (it just plays)\n",
    "#\n",
    "\n",
    "# our alternative test function -- if this works, use altplay instead of play later on...\n",
    "def alttest():\n",
    "    \"\"\"A test function that plays swfaith.wav\n",
    "       You'll need swfaith.wav in this folder.\n",
    "    \"\"\"\n",
    "    return altplay('swfaith.wav')\n",
    "\n",
    "alttest()\n",
    "\n",
    "\n",
    "# IF alttest() worked, but test() did not, then uncomment this line below:\n",
    "\n",
    "# play = altplay    # this will define play to be altplay (if only altplay workd)\n",
    "\n",
    "# then re-run this cell. The function play will then be altplay."
   ]
  },
  {
   "cell_type": "code",
   "execution_count": null,
   "metadata": {},
   "outputs": [],
   "source": [
    "# Ok!   First, some reminders about list comprehensions:"
   ]
  },
  {
   "cell_type": "code",
   "execution_count": null,
   "metadata": {},
   "outputs": [],
   "source": [
    "# a function to get started with a reminder\n",
    "# about list comprehensions...\n",
    "def three_ize(L):\n",
    "    \"\"\"three_ize is the motto of the green CS 5 alien.\n",
    "       It's also a function that accepts a list and\n",
    "       returns a list of elements, each three times as large.\n",
    "    \"\"\"\n",
    "    # this is an example of a list comprehension\n",
    "    LC = [3 * x for x in L]\n",
    "    return LC"
   ]
  },
  {
   "cell_type": "code",
   "execution_count": null,
   "metadata": {},
   "outputs": [],
   "source": [
    "#\n",
    "# Function to write #1:  scale\n",
    "#"
   ]
  },
  {
   "cell_type": "code",
   "execution_count": null,
   "metadata": {},
   "outputs": [],
   "source": [
    "# here is an example of a different method\n",
    "# for writing the three_ize function:\n",
    "def three_ize_by_index(L):\n",
    "    \"\"\"three_ize_by_index has the same behavior as three_ize\n",
    "       but it uses the INDEX of each element, instead of\n",
    "       using the elements themselves -- this is much more flexible!\n",
    "    \"\"\"\n",
    "    # we get the length of L first, in order to use it in range:\n",
    "    N = len(L)\n",
    "    LC = [3 * L[i] for i in range(N)]\n",
    "    return LC"
   ]
  },
  {
   "cell_type": "code",
   "execution_count": null,
   "metadata": {},
   "outputs": [],
   "source": [
    "#\n",
    "# Function to write #2:  add_2\n",
    "#"
   ]
  },
  {
   "cell_type": "code",
   "execution_count": null,
   "metadata": {},
   "outputs": [],
   "source": [
    "#\n",
    "# Function to write #3:  add_3\n",
    "#"
   ]
  },
  {
   "cell_type": "code",
   "execution_count": null,
   "metadata": {},
   "outputs": [],
   "source": [
    "#\n",
    "# Function to write #4:  add_scale_2\n",
    "#"
   ]
  },
  {
   "cell_type": "code",
   "execution_count": null,
   "metadata": {},
   "outputs": [],
   "source": [
    "# Helper function:  randomize\n",
    "\n",
    "def randomize(x, chance_of_replacing):\n",
    "    \"\"\"randomize accepts an original value, x\n",
    "       and a fraction named chance_of_replacing.\n",
    "\n",
    "       With a \"chance_of_replacing\" chance, it\n",
    "       should return a random float from -32768 to 32767.\n",
    "\n",
    "       Otherwise, it should return x (not replacing it).\n",
    "    \"\"\"\n",
    "    r = random.uniform(0, 1)\n",
    "    if r < chance_of_replacing:\n",
    "        return random.uniform(-32768, 32767)\n",
    "    else:\n",
    "        return x\n",
    "    \n",
    "# let's see it in action!  Once:\n",
    "print(\"One time: \", randomize(42, 0.5))\n",
    "print()\n",
    "\n",
    "# ten times:\n",
    "LC = [randomize(42, 0.5) for i in range(10)]\n",
    "print(\"An LC of ten:\\n\", LC)"
   ]
  },
  {
   "cell_type": "code",
   "execution_count": null,
   "metadata": {},
   "outputs": [],
   "source": [
    "#\n",
    "# Function to write #5:  replace_some\n",
    "#"
   ]
  },
  {
   "cell_type": "code",
   "execution_count": null,
   "metadata": {},
   "outputs": [],
   "source": [
    "#\n",
    "# below are functions that relate to sound-processing ...\n",
    "#"
   ]
  },
  {
   "cell_type": "code",
   "execution_count": null,
   "metadata": {},
   "outputs": [],
   "source": [
    "# [[ repeat from above ]]\n",
    "# Our in-browser test function to make sure everything is working\n",
    "def test():\n",
    "    \"\"\"A test function that plays swfaith.wav\n",
    "       You'll need swfaith.wav in this folder.\n",
    "    \"\"\"\n",
    "    return play('swfaith.wav')\n",
    "\n",
    "test()\n",
    "\n",
    "# if this test() doesn't work, run the \"alttest()\" cell near the top..."
   ]
  },
  {
   "cell_type": "code",
   "execution_count": null,
   "metadata": {},
   "outputs": [],
   "source": [
    "#\n",
    "# Our first example: the changeSpeed function\n",
    "#\n",
    "def changeSpeed(filename, newsr):\n",
    "    \"\"\"changeSpeed allows the user to change an audio file's speed.\n",
    "       Arguments: filename, the name of the original file\n",
    "                  newsr, the new sampling rate in samples per second\n",
    "       Result: creates the sound file 'out.wav'\n",
    "               and plays it\n",
    "    \"\"\"\n",
    "    print(\"Reading in the sound data...\")\n",
    "    samps, sr = read_wav(filename)        # Opens the file and returns two things:\n",
    "    # samps, a list of the raw pressure samples\n",
    "    # sr, an inteter which is the sampling rate (number of samples per second)\n",
    "    # sr is usually 22050  (22050 samples per second)\n",
    "\n",
    "    N = len(samps)                        # samps is a LIST of the raw pressure samples, N is the # of samples\n",
    "    print(\"The first 10 sound-pressure samples are\\n\", samps[:10])\n",
    "    print(\"Total number of samples in the list samps ==\", N)\n",
    "    print(\"The sampling rate is sr ==\", sr, \"samples per second\")\n",
    "\n",
    "    # here, we create a new sound, both a new list of samples and a new sampling rate (ok to be unchanged):\n",
    "    \n",
    "    newsamps = samps                      # The new list of samples is set to the old list of samples\n",
    "                                          # later we will change samps into newsamps\n",
    "    newsr = newsr                         # The new sampling rate, newsr, is passed in to write_wav\n",
    "                                          # The above line really isn't needed, but it's a nice scaffold\n",
    "        \n",
    "    # here, we write out the newsamps and newsr, as a list [newsamps, newsr]\n",
    "    write_wav([newsamps, newsr], \"out.wav\")  # writes data to a new file, out.wav\n",
    "    \n",
    "    print(\"\\nPlaying new sound...\")\n",
    "    return play('out.wav')                # play the newly created file, 'out.wav'"
   ]
  },
  {
   "cell_type": "code",
   "execution_count": null,
   "metadata": {},
   "outputs": [],
   "source": [
    "# let's try it!\n",
    "changeSpeed(\"swfaith.wav\", 44100)         # 22050 is \"normal\";  11025 is fun!"
   ]
  },
  {
   "cell_type": "code",
   "execution_count": null,
   "metadata": {},
   "outputs": [],
   "source": [
    "#\n",
    "# our second example, the flipflop function\n",
    "#\n",
    "def flipflop(filename):\n",
    "    \"\"\"flipflop swaps the halves of an audio file\n",
    "       Argument: filename, the name of the original file\n",
    "       Result: no return value, but\n",
    "               this creates the sound file 'out.wav'\n",
    "               and plays it\n",
    "    \"\"\"\n",
    "    print(\"Reading in the sound data...\")\n",
    "    samps, sr = read_wav(filename)\n",
    "\n",
    "    print(\"Computing new sound...\")\n",
    "    # this gets the midpoint and calls it m\n",
    "    m = len(samps) // 2\n",
    "    \n",
    "    # here, we create a new sound, both a new list of samples and a new sampling rate:\n",
    "    newsamps = samps[m:] + samps[:m]   # side note: we could have used flipside!\n",
    "    newsr = sr                         # the new sampling rate, newsr, is set to be the old rate, sr\n",
    "\n",
    "    print(\"Writing out the new sound data...\")\n",
    "    write_wav([newsamps, newsr], \"out.wav\")  # need to write a data-pair of [list-of-samps,s.rate]\n",
    "\n",
    "    print(\"Playing new sound...\")\n",
    "    return play('out.wav')"
   ]
  },
  {
   "cell_type": "code",
   "execution_count": null,
   "metadata": {},
   "outputs": [],
   "source": [
    "# let's try it!\n",
    "flipflop(\"swnotry.wav\")     "
   ]
  },
  {
   "cell_type": "code",
   "execution_count": null,
   "metadata": {},
   "outputs": [],
   "source": [
    "# Sound function to write #1:  reverse    (copy flipflop, above, as a guide!)"
   ]
  },
  {
   "cell_type": "code",
   "execution_count": null,
   "metadata": {},
   "outputs": [],
   "source": [
    "# Sound function to write #2:  volume      (again, use prior examples as guides!)"
   ]
  },
  {
   "cell_type": "code",
   "execution_count": null,
   "metadata": {},
   "outputs": [],
   "source": [
    "# Sound function to write #3:  static"
   ]
  },
  {
   "cell_type": "code",
   "execution_count": null,
   "metadata": {},
   "outputs": [],
   "source": [
    "# Sound function to write #4:  overlay"
   ]
  },
  {
   "cell_type": "code",
   "execution_count": null,
   "metadata": {},
   "outputs": [],
   "source": [
    "# Sound function to write #5:  echo"
   ]
  },
  {
   "cell_type": "code",
   "execution_count": null,
   "metadata": {},
   "outputs": [],
   "source": [
    "# Helper function for generating pure tones\n",
    "def gen_pure_tone(freq, seconds):\n",
    "    \"\"\"gen_pure_tone returns the y-values of a cosine wave\n",
    "       whose frequency is freq Hertz.\n",
    "       It returns nsamples values, taken once every 1/22050 of a second.\n",
    "       Thus, the sampling rate is 22050 hertz.\n",
    "       0.5 second (11025 samples) is probably enough for testing.\n",
    "    \"\"\"\n",
    "    data_pair = [0, 0]                    # Initialize the data here\n",
    "    sampling_rate = 22050                 # number of data samples per second\n",
    "    nsamples = int(seconds*sampling_rate) # Rounds down\n",
    "    f = freq*2*math.pi/sampling_rate      # f converts from samples to Hz -- with radians\n",
    "    amp = 32767.0                         # our amplitude coefficient, amp\n",
    "    \n",
    "    newsamps = [amp*math.sin(f*n) for n in range(nsamples)]  # new samples\n",
    "    newsr = sampling_rate                                    # new sampling_rate\n",
    "    \n",
    "    data_pair[0] = newsamps\n",
    "    data_pair[1] = newsr\n",
    "    return data_pair    # this is the data-pair that write_wav needs...\n",
    "\n",
    "# better not to call gen_pure_tone on its own... we'll use it in the function below:"
   ]
  },
  {
   "cell_type": "code",
   "execution_count": null,
   "metadata": {},
   "outputs": [],
   "source": [
    "def pure_tone(freq, time_in_seconds):\n",
    "    \"\"\"Generates and plays a pure tone of the given frequency.\"\"\"\n",
    "    print(\"Generating tone...\")\n",
    "    samps, sr = gen_pure_tone(freq, time_in_seconds)\n",
    "\n",
    "    print(\"Writing out the sound data...\")\n",
    "    write_wav([samps, sr], \"out.wav\") # write data to out.wav\n",
    "\n",
    "    print(\"Playing new sound...\")\n",
    "    return play('out.wav')\n",
    "\n",
    "pure_tone(440, 1.0)                   # 440 hz \"concert A\" for one second \n",
    "                                      # (the sampling rate will be 22050)"
   ]
  },
  {
   "cell_type": "code",
   "execution_count": null,
   "metadata": {},
   "outputs": [],
   "source": [
    "# Sound function to write #6:  chord    (copy pure_tone as a starting point)"
   ]
  },
  {
   "cell_type": "code",
   "execution_count": null,
   "metadata": {},
   "outputs": [],
   "source": [
    "#\n",
    "# Congratulations! \n",
    "#\n",
    "# Submit lab3 to the usual place...      (as hw3pr1.ipynb, if possible)\n",
    "#\n",
    "# and, feel free to play around with audio data in Python!    \n",
    "#\n",
    "# (Audacity is a nice converter to/from the wav format, with Mudd author D. Mazzoni :-)\n",
    "#"
   ]
  }
 ],
 "metadata": {
  "kernelspec": {
   "display_name": "Python 3",
   "language": "python",
   "name": "python3"
  },
  "language_info": {
   "codemirror_mode": {
    "name": "ipython",
    "version": 3
   },
   "file_extension": ".py",
   "mimetype": "text/x-python",
   "name": "python",
   "nbconvert_exporter": "python",
   "pygments_lexer": "ipython3",
   "version": "3.7.6"
  }
 },
 "nbformat": 4,
 "nbformat_minor": 2
}
